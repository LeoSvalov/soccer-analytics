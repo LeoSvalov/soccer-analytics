{
 "cells": [
  {
   "cell_type": "markdown",
   "source": [
    "Logistic Regression - Predicting the outcome of a shot given its features"
   ],
   "metadata": {
    "collapsed": false,
    "pycharm": {
     "name": "#%% md\n"
    }
   }
  },
  {
   "cell_type": "code",
   "execution_count": 1,
   "metadata": {
    "collapsed": true
   },
   "outputs": [],
   "source": [
    "\n",
    "import pandas as pd\n",
    "import requests\n",
    "from tqdm import tqdm\n",
    "import numpy as np\n",
    "import matplotlib.pyplot as plt"
   ]
  },
  {
   "cell_type": "code",
   "execution_count": 2,
   "outputs": [],
   "source": [
    "base_url = \"https://raw.githubusercontent.com/statsbomb/open-data/master/data/\"\n",
    "comp_url = base_url + \"matches/{}/{}.json\"\n",
    "match_url = base_url + \"events/{}.json\"\n"
   ],
   "metadata": {
    "collapsed": false,
    "pycharm": {
     "name": "#%%\n"
    }
   }
  },
  {
   "cell_type": "code",
   "execution_count": 3,
   "outputs": [],
   "source": [
    "def parse_data(competition_id, season_id):\n",
    "    matches = requests.get(url=comp_url.format(competition_id, season_id)).json()\n",
    "    match_ids = [m['match_id'] for m in matches]\n",
    "\n",
    "    all_events = []\n",
    "    for match_id in tqdm(match_ids):\n",
    "\n",
    "        events = requests.get(url=match_url.format(match_id)).json()\n",
    "        shots = [x for x in events if x['type']['name'] == \"Shot\"]\n",
    "\n",
    "        for s in shots:\n",
    "            attributes = {\n",
    "                \"x\": s['location'][0],\n",
    "                \"y\": s['location'][1],\n",
    "                \"head\": 1 if s['shot']['body_part']['name'] == \"Head\" else 0,\n",
    "                \"phase\": s['shot']['type']['name'],\n",
    "                \"outcome\": 1 if s['shot']['outcome']['name'] == \"Goal\" else 0,\n",
    "                \"statsbomb_xg\": s['shot']['statsbomb_xg']\n",
    "            }\n",
    "            all_events.append(attributes)\n",
    "\n",
    "    return pd.DataFrame(all_events)"
   ],
   "metadata": {
    "collapsed": false,
    "pycharm": {
     "name": "#%%\n"
    }
   }
  },
  {
   "cell_type": "markdown",
   "source": [
    "The `parse_data` function has been adjusted such that only shots are collected, and a bunch of new attributes are collected, including:\n",
    "- `x` - the x-coordinate of the shot\n",
    "    - ranges from `0 to 120`\n",
    "- `y` - the y-coordinate of the shot\n",
    "    - ranges from `0 to 80`\n",
    "- `head` - if the shot was attempted with the head\n",
    "- `phase` - what phase of play did the shot come from\n",
    "- `outcome` - did the shot result in a goal\n",
    "- `statsbomb_xg` - for comparison purposes at the end of the notebook\n",
    "\n",
    "---"
   ],
   "metadata": {
    "collapsed": false,
    "pycharm": {
     "name": "#%% md\n"
    }
   }
  },
  {
   "cell_type": "code",
   "execution_count": 4,
   "outputs": [
    {
     "name": "stderr",
     "output_type": "stream",
     "text": [
      "100%|██████████| 64/64 [01:43<00:00,  1.62s/it]\n"
     ]
    }
   ],
   "source": [
    "competition_id = 43\n",
    "season_id = 3\n",
    "df = parse_data(competition_id, season_id)"
   ],
   "metadata": {
    "collapsed": false,
    "pycharm": {
     "name": "#%%\n"
    }
   }
  },
  {
   "cell_type": "code",
   "execution_count": 5,
   "outputs": [],
   "source": [
    "def distance_to_goal(origin):\n",
    "    dest = np.array([120., 40.])\n",
    "    return np.sqrt(np.sum((origin - dest) ** 2))"
   ],
   "metadata": {
    "collapsed": false,
    "pycharm": {
     "name": "#%%\n"
    }
   }
  },
  {
   "cell_type": "markdown",
   "source": [
    "The `distance_to_goal` function takes an x/y pair (e.g. `[x, y]`), and calculates how far from the center of the goal that location is.\n",
    "\n",
    "---"
   ],
   "metadata": {
    "collapsed": false
   }
  },
  {
   "cell_type": "code",
   "execution_count": 6,
   "outputs": [],
   "source": [
    "def goal_angle(origin):\n",
    "    p0 = np.array((120., 36.))  # Left Post\n",
    "    p1 = np.array(origin, dtype=np.float)\n",
    "    p2 = np.array((120., 44.))  # Right Post\n",
    "\n",
    "    v0 = p0 - p1\n",
    "    v1 = p2 - p1\n",
    "\n",
    "    angle = np.abs(np.math.atan2(np.linalg.det([v0, v1]), np.dot(v0, v1)))\n",
    "\n",
    "    return angle"
   ],
   "metadata": {
    "collapsed": false,
    "pycharm": {
     "name": "#%%\n"
    }
   }
  },
  {
   "cell_type": "code",
   "execution_count": 7,
   "outputs": [],
   "source": [
    "df['distance_to_goal'] = df.apply(lambda row: distance_to_goal(row[['x', 'y']]), axis=1)\n",
    "df['goal_angle'] = df.apply(lambda r: goal_angle(r[['x', 'y']]), axis=1)"
   ],
   "metadata": {
    "collapsed": false,
    "pycharm": {
     "name": "#%%\n"
    }
   }
  },
  {
   "cell_type": "code",
   "execution_count": 8,
   "outputs": [],
   "source": [
    "shots = df[~df['phase'].isin(['Free Kick', 'Penalty'])]\n"
   ],
   "metadata": {
    "collapsed": false,
    "pycharm": {
     "name": "#%%\n"
    }
   }
  },
  {
   "cell_type": "code",
   "execution_count": 9,
   "outputs": [],
   "source": [
    "from sklearn.linear_model import LogisticRegression\n",
    "model = LogisticRegression()\n",
    "features = shots[['distance_to_goal', 'goal_angle', 'head']]\n",
    "labels = shots['outcome']\n",
    "\n",
    "fit = model.fit(features, labels)\n",
    "predictions = model.predict_proba(features)[:, 1]"
   ],
   "metadata": {
    "collapsed": false,
    "pycharm": {
     "name": "#%%\n"
    }
   }
  },
  {
   "cell_type": "code",
   "execution_count": 10,
   "outputs": [
    {
     "data": {
      "text/plain": "<Figure size 432x288 with 1 Axes>",
      "image/png": "[encoded data removed]"
     },
     "metadata": {
      "needs_background": "light"
     },
     "output_type": "display_data"
    }
   ],
   "source": [
    "plt.plot(sorted(predictions))\n",
    "plt.show()\n"
   ],
   "metadata": {
    "collapsed": false,
    "pycharm": {
     "name": "#%%\n"
    }
   }
  }
 ],
 "metadata": {
  "kernelspec": {
   "display_name": "Python 3",
   "language": "python",
   "name": "python3"
  },
  "language_info": {
   "codemirror_mode": {
    "name": "ipython",
    "version": 2
   },
   "file_extension": ".py",
   "mimetype": "text/x-python",
   "name": "python",
   "nbconvert_exporter": "python",
   "pygments_lexer": "ipython2",
   "version": "2.7.6"
  }
 },
 "nbformat": 4,
 "nbformat_minor": 0
}