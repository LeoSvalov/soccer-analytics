{
 "cells": [
  {
   "cell_type": "code",
   "execution_count": 4,
   "metadata": {
    "collapsed": true
   },
   "outputs": [],
   "source": [
    "import pandas as pd\n",
    "import requests\n",
    "from tqdm import tqdm\n",
    "import matplotlib.pyplot as plt\n"
   ]
  },
  {
   "cell_type": "code",
   "execution_count": 5,
   "outputs": [],
   "source": [
    "base_url = \"https://raw.githubusercontent.com/statsbomb/open-data/master/data/\"\n",
    "comp_url = base_url + \"matches/{}/{}.json\"\n",
    "match_url = base_url + \"events/{}.json\"\n"
   ],
   "metadata": {
    "collapsed": false,
    "pycharm": {
     "name": "#%%\n"
    }
   }
  },
  {
   "cell_type": "code",
   "execution_count": 6,
   "outputs": [],
   "source": [
    "def parse_data(competition_id, season_id):\n",
    "    matches = requests.get(url=comp_url.format(competition_id,season_id)).json()\n",
    "    match_ids = [m['match_id'] for m in matches]\n",
    "\n",
    "    all_events = []\n",
    "    for match_id in tqdm(match_ids):\n",
    "        events = requests.get(url=match_url.format(match_id)).json()\n",
    "        passes = [x for x in events if x['type']['name'] == 'Pass']\n",
    "        for a in passes:\n",
    "            attributes = {\n",
    "                \"player_id\": a['player']['id'],\n",
    "                \"outcome\": 0 if 'outcome' in a['pass'].keys() else 1,\n",
    "            }\n",
    "            all_events.append(attributes)\n",
    "    return pd.DataFrame(all_events)"
   ],
   "metadata": {
    "collapsed": false,
    "pycharm": {
     "name": "#%%\n"
    }
   }
  },
  {
   "cell_type": "code",
   "execution_count": 7,
   "outputs": [
    {
     "name": "stderr",
     "output_type": "stream",
     "text": [
      "100%|██████████| 64/64 [02:20<00:00,  2.20s/it]\n"
     ]
    }
   ],
   "source": [
    "competition_id = 43\n",
    "season_id = 3\n",
    "df = parse_data(competition_id,season_id)"
   ],
   "metadata": {
    "collapsed": false,
    "pycharm": {
     "name": "#%%\n"
    }
   }
  },
  {
   "cell_type": "code",
   "execution_count": 8,
   "outputs": [
    {
     "data": {
      "text/plain": "    player_id  outcome\n0        3043        1\n1        3027        0\n2        5468        0\n3        5527        1\n4        3959        0\n5        5469        0\n6        3959        1\n7        3043        0\n8        5468        0\n9        4763        1\n10       4447        0\n11       5468        0\n12       6355        1\n13       5527        1\n14       5534        1\n15       3027        1\n16       3959        1\n17       5534        0\n18       5457        1\n19       5470        1",
      "text/html": "<div>\n<style scoped>\n    .dataframe tbody tr th:only-of-type {\n        vertical-align: middle;\n    }\n\n    .dataframe tbody tr th {\n        vertical-align: top;\n    }\n\n    .dataframe thead th {\n        text-align: right;\n    }\n</style>\n<table border=\"1\" class=\"dataframe\">\n  <thead>\n    <tr style=\"text-align: right;\">\n      <th></th>\n      <th>player_id</th>\n      <th>outcome</th>\n    </tr>\n  </thead>\n  <tbody>\n    <tr>\n      <th>0</th>\n      <td>3043</td>\n      <td>1</td>\n    </tr>\n    <tr>\n      <th>1</th>\n      <td>3027</td>\n      <td>0</td>\n    </tr>\n    <tr>\n      <th>2</th>\n      <td>5468</td>\n      <td>0</td>\n    </tr>\n    <tr>\n      <th>3</th>\n      <td>5527</td>\n      <td>1</td>\n    </tr>\n    <tr>\n      <th>4</th>\n      <td>3959</td>\n      <td>0</td>\n    </tr>\n    <tr>\n      <th>5</th>\n      <td>5469</td>\n      <td>0</td>\n    </tr>\n    <tr>\n      <th>6</th>\n      <td>3959</td>\n      <td>1</td>\n    </tr>\n    <tr>\n      <th>7</th>\n      <td>3043</td>\n      <td>0</td>\n    </tr>\n    <tr>\n      <th>8</th>\n      <td>5468</td>\n      <td>0</td>\n    </tr>\n    <tr>\n      <th>9</th>\n      <td>4763</td>\n      <td>1</td>\n    </tr>\n    <tr>\n      <th>10</th>\n      <td>4447</td>\n      <td>0</td>\n    </tr>\n    <tr>\n      <th>11</th>\n      <td>5468</td>\n      <td>0</td>\n    </tr>\n    <tr>\n      <th>12</th>\n      <td>6355</td>\n      <td>1</td>\n    </tr>\n    <tr>\n      <th>13</th>\n      <td>5527</td>\n      <td>1</td>\n    </tr>\n    <tr>\n      <th>14</th>\n      <td>5534</td>\n      <td>1</td>\n    </tr>\n    <tr>\n      <th>15</th>\n      <td>3027</td>\n      <td>1</td>\n    </tr>\n    <tr>\n      <th>16</th>\n      <td>3959</td>\n      <td>1</td>\n    </tr>\n    <tr>\n      <th>17</th>\n      <td>5534</td>\n      <td>0</td>\n    </tr>\n    <tr>\n      <th>18</th>\n      <td>5457</td>\n      <td>1</td>\n    </tr>\n    <tr>\n      <th>19</th>\n      <td>5470</td>\n      <td>1</td>\n    </tr>\n  </tbody>\n</table>\n</div>"
     },
     "execution_count": 8,
     "metadata": {},
     "output_type": "execute_result"
    }
   ],
   "source": [
    "df.head(20)"
   ],
   "metadata": {
    "collapsed": false,
    "pycharm": {
     "name": "#%%\n"
    }
   }
  },
  {
   "cell_type": "markdown",
   "source": [
    "again study it, aaaa neponial!"
   ],
   "metadata": {
    "collapsed": false,
    "pycharm": {
     "name": "#%% md\n"
    }
   }
  },
  {
   "cell_type": "code",
   "execution_count": 9,
   "outputs": [],
   "source": [
    "total_passes = df.groupby('player_id')['outcome'].sum()\n",
    "percentage = df.groupby('player_id')['outcome'].mean()"
   ],
   "metadata": {
    "collapsed": false,
    "pycharm": {
     "name": "#%%\n"
    }
   }
  },
  {
   "cell_type": "code",
   "execution_count": 10,
   "outputs": [
    {
     "data": {
      "text/plain": "<Figure size 432x288 with 1 Axes>",
      "image/png": "[encoded data removed]"
     },
     "metadata": {
      "needs_background": "light"
     },
     "output_type": "display_data"
    }
   ],
   "source": [
    "plt.scatter(total_passes,percentage, alpha=0.8)\n",
    "plt.show()\n",
    "\n",
    "\n",
    "\n"
   ],
   "metadata": {
    "collapsed": false,
    "pycharm": {
     "name": "#%%\n"
    }
   }
  }
 ],
 "metadata": {
  "kernelspec": {
   "display_name": "Python 3",
   "language": "python",
   "name": "python3"
  },
  "language_info": {
   "codemirror_mode": {
    "name": "ipython",
    "version": 2
   },
   "file_extension": ".py",
   "mimetype": "text/x-python",
   "name": "python",
   "nbconvert_exporter": "python",
   "pygments_lexer": "ipython2",
   "version": "2.7.6"
  }
 },
 "nbformat": 4,
 "nbformat_minor": 0
}