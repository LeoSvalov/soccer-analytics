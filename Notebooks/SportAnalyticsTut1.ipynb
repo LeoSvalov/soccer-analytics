{
 "cells": [
  {
   "cell_type": "code",
   "execution_count": 28,
   "metadata": {},
   "outputs": [],
   "source": [
    "import requests\n",
    "import pandas as pd\n",
    "from tqdm import tqdm"
   ]
  },
  {
   "cell_type": "code",
   "execution_count": 29,
   "metadata": {},
   "outputs": [],
   "source": [
    "base_url = \"https://raw.githubusercontent.com/statsbomb/open-data/master/data/\"\n",
    "comp_url = base_url + \"matches/{}/{}.json\"\n",
    "match_url = base_url + \"events/{}.json\""
   ]
  },
  {
   "cell_type": "code",
   "execution_count": 30,
   "metadata": {},
   "outputs": [],
   "source": [
    "def parse_data(competition_id,season_id):\n",
    "    matches = requests.get(url = comp_url.format(competition_id, season_id)).json()\n",
    "    match_ids = [m['match_id']  for m in matches]\n",
    "    all_events = []\n",
    "    for match_id in tqdm(match_ids):\n",
    "        events = requests.get(url = match_url.format(match_id)).json()\n",
    "        shots = [x for x in events if x['type']['name'] == \"Shot\"]\n",
    "        for s in  shots:\n",
    "            attributes = {\n",
    "                \"match_id\": match_id,\n",
    "                \"team\": s[\"possession_team\"][\"name\"],\n",
    "                \"player\": s['player']['name'],\n",
    "                \"x\": s['location'][0],\n",
    "                \"y\": s['location'][1],\n",
    "                \"outcome\": s['shot']['outcome']['name'], \n",
    "            }\n",
    "            all_events.append(attributes)\n",
    "    return pd.DataFrame(all_events)"
   ]
  },
  {
   "cell_type": "code",
   "execution_count": 31,
   "metadata": {},
   "outputs": [],
   "source": [
    "competition_id = 43 # World Cup\n",
    "season_id = 3 # season 2018"
   ]
  },
  {
   "cell_type": "code",
   "execution_count": 32,
   "metadata": {},
   "outputs": [
    {
     "name": "stderr",
     "output_type": "stream",
     "text": [
      "100%|██████████| 64/64 [02:14<00:00,  2.10s/it]\n"
     ]
    }
   ],
   "source": [
    "df = parse_data(competition_id, season_id)"
   ]
  },
  {
   "cell_type": "code",
   "execution_count": null,
   "metadata": {},
   "outputs": [],
   "source": [
    "df.head(15)"
   ]
  }
 ],
 "metadata": {
  "kernelspec": {
   "display_name": "Python 3",
   "language": "python",
   "name": "python3"
  },
  "language_info": {
   "codemirror_mode": {
    "name": "ipython",
    "version": 3
   },
   "file_extension": ".py",
   "mimetype": "text/x-python",
   "name": "python",
   "nbconvert_exporter": "python",
   "pygments_lexer": "ipython3",
   "version": "3.7.6"
  }
 },
 "nbformat": 4,
 "nbformat_minor": 4
}
