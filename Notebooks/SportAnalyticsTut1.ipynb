{
 "cells": [
  {
   "cell_type": "code",
   "execution_count": 4,
   "metadata": {},
   "outputs": [],
   "source": [
    "import requests\n",
    "import pandas as pd\n",
    "from tqdm import tqdm"
   ]
  },
  {
   "cell_type": "code",
   "execution_count": 5,
   "metadata": {},
   "outputs": [],
   "source": [
    "base_url = \"https://raw.githubusercontent.com/statsbomb/open-data/master/data/\"\n",
    "comp_url = base_url + \"matches/{}/{}.json\"\n",
    "match_url = base_url + \"events/{}.json\""
   ]
  },
  {
   "cell_type": "code",
   "execution_count": 6,
   "metadata": {},
   "outputs": [],
   "source": [
    "def parse_data(competition_id,season_id):\n",
    "    matches = requests.get(url = comp_url.format(competition_id, season_id)).json()\n",
    "    match_ids = [m['match_id']  for m in matches]\n",
    "    all_events = []\n",
    "    for match_id in tqdm(match_ids):\n",
    "        events = requests.get(url = match_url.format(match_id)).json()\n",
    "        shots = [x for x in events if x['type']['name'] == \"Shot\"]\n",
    "        for s in  shots:\n",
    "            attributes = {\n",
    "                \"match_id\": match_id,\n",
    "                \"team\": s[\"possession_team\"][\"name\"],\n",
    "                \"player\": s['player']['name'],\n",
    "                \"x\": s['location'][0],\n",
    "                \"y\": s['location'][1],\n",
    "                \"outcome\": s['shot']['outcome']['name'], \n",
    "            }\n",
    "            all_events.append(attributes)\n",
    "    return pd.DataFrame(all_events)"
   ]
  },
  {
   "cell_type": "code",
   "execution_count": 7,
   "metadata": {},
   "outputs": [],
   "source": [
    "competition_id = 43 # World Cup\n",
    "season_id = 3 # season 2018"
   ]
  },
  {
   "cell_type": "code",
   "execution_count": 8,
   "metadata": {},
   "outputs": [
    {
     "name": "stderr",
     "output_type": "stream",
     "text": [
      "100%|██████████| 64/64 [01:22<00:00,  1.29s/it]\n"
     ]
    }
   ],
   "source": [
    "df = parse_data(competition_id, season_id)"
   ]
  },
  {
   "cell_type": "code",
   "execution_count": 9,
   "metadata": {},
   "outputs": [
    {
     "data": {
      "text/plain": "    match_id     team                          player      x     y  outcome\n0       7581  Denmark   Mathias Jattah-Njie Jørgensen  115.0  34.0     Goal\n1       7581  Croatia                 Mario Mandžukić  112.0  36.0     Goal\n2       7581  Croatia                    Ivan Perišić  101.0  55.0  Blocked\n3       7581  Croatia                    Ivan Perišić  103.0  24.0  Blocked\n4       7581  Denmark     Christian Dannemann Eriksen   96.0  37.0  Blocked\n5       7581  Denmark  Martin Braithwaite Christensen  111.0  50.0    Saved\n6       7581  Croatia                    Ivan Rakitić   94.0  32.0    Saved\n7       7581  Croatia                    Ivan Perišić  110.0  32.0  Wayward\n8       7581  Croatia                    Ivan Perišić  111.0  34.0    Off T\n9       7581  Croatia                      Ante Rebić   97.0  30.0  Blocked\n10      7581  Denmark     Christian Dannemann Eriksen   96.0  57.0    Off T\n11      7581  Croatia                    Dejan Lovren  115.0  39.0    Off T\n12      7581  Croatia                    Ivan Rakitić  104.0  31.0    Saved\n13      7581  Croatia                    Ivan Perišić   98.0  62.0    Off T\n14      7581  Denmark  Martin Braithwaite Christensen  115.0  52.0    Off T",
      "text/html": "<div>\n<style scoped>\n    .dataframe tbody tr th:only-of-type {\n        vertical-align: middle;\n    }\n\n    .dataframe tbody tr th {\n        vertical-align: top;\n    }\n\n    .dataframe thead th {\n        text-align: right;\n    }\n</style>\n<table border=\"1\" class=\"dataframe\">\n  <thead>\n    <tr style=\"text-align: right;\">\n      <th></th>\n      <th>match_id</th>\n      <th>team</th>\n      <th>player</th>\n      <th>x</th>\n      <th>y</th>\n      <th>outcome</th>\n    </tr>\n  </thead>\n  <tbody>\n    <tr>\n      <th>0</th>\n      <td>7581</td>\n      <td>Denmark</td>\n      <td>Mathias Jattah-Njie Jørgensen</td>\n      <td>115.0</td>\n      <td>34.0</td>\n      <td>Goal</td>\n    </tr>\n    <tr>\n      <th>1</th>\n      <td>7581</td>\n      <td>Croatia</td>\n      <td>Mario Mandžukić</td>\n      <td>112.0</td>\n      <td>36.0</td>\n      <td>Goal</td>\n    </tr>\n    <tr>\n      <th>2</th>\n      <td>7581</td>\n      <td>Croatia</td>\n      <td>Ivan Perišić</td>\n      <td>101.0</td>\n      <td>55.0</td>\n      <td>Blocked</td>\n    </tr>\n    <tr>\n      <th>3</th>\n      <td>7581</td>\n      <td>Croatia</td>\n      <td>Ivan Perišić</td>\n      <td>103.0</td>\n      <td>24.0</td>\n      <td>Blocked</td>\n    </tr>\n    <tr>\n      <th>4</th>\n      <td>7581</td>\n      <td>Denmark</td>\n      <td>Christian Dannemann Eriksen</td>\n      <td>96.0</td>\n      <td>37.0</td>\n      <td>Blocked</td>\n    </tr>\n    <tr>\n      <th>5</th>\n      <td>7581</td>\n      <td>Denmark</td>\n      <td>Martin Braithwaite Christensen</td>\n      <td>111.0</td>\n      <td>50.0</td>\n      <td>Saved</td>\n    </tr>\n    <tr>\n      <th>6</th>\n      <td>7581</td>\n      <td>Croatia</td>\n      <td>Ivan Rakitić</td>\n      <td>94.0</td>\n      <td>32.0</td>\n      <td>Saved</td>\n    </tr>\n    <tr>\n      <th>7</th>\n      <td>7581</td>\n      <td>Croatia</td>\n      <td>Ivan Perišić</td>\n      <td>110.0</td>\n      <td>32.0</td>\n      <td>Wayward</td>\n    </tr>\n    <tr>\n      <th>8</th>\n      <td>7581</td>\n      <td>Croatia</td>\n      <td>Ivan Perišić</td>\n      <td>111.0</td>\n      <td>34.0</td>\n      <td>Off T</td>\n    </tr>\n    <tr>\n      <th>9</th>\n      <td>7581</td>\n      <td>Croatia</td>\n      <td>Ante Rebić</td>\n      <td>97.0</td>\n      <td>30.0</td>\n      <td>Blocked</td>\n    </tr>\n    <tr>\n      <th>10</th>\n      <td>7581</td>\n      <td>Denmark</td>\n      <td>Christian Dannemann Eriksen</td>\n      <td>96.0</td>\n      <td>57.0</td>\n      <td>Off T</td>\n    </tr>\n    <tr>\n      <th>11</th>\n      <td>7581</td>\n      <td>Croatia</td>\n      <td>Dejan Lovren</td>\n      <td>115.0</td>\n      <td>39.0</td>\n      <td>Off T</td>\n    </tr>\n    <tr>\n      <th>12</th>\n      <td>7581</td>\n      <td>Croatia</td>\n      <td>Ivan Rakitić</td>\n      <td>104.0</td>\n      <td>31.0</td>\n      <td>Saved</td>\n    </tr>\n    <tr>\n      <th>13</th>\n      <td>7581</td>\n      <td>Croatia</td>\n      <td>Ivan Perišić</td>\n      <td>98.0</td>\n      <td>62.0</td>\n      <td>Off T</td>\n    </tr>\n    <tr>\n      <th>14</th>\n      <td>7581</td>\n      <td>Denmark</td>\n      <td>Martin Braithwaite Christensen</td>\n      <td>115.0</td>\n      <td>52.0</td>\n      <td>Off T</td>\n    </tr>\n  </tbody>\n</table>\n</div>"
     },
     "execution_count": 9,
     "metadata": {},
     "output_type": "execute_result"
    }
   ],
   "source": [
    "df.head(15)"
   ]
  }
 ],
 "metadata": {
  "kernelspec": {
   "display_name": "Python 3",
   "language": "python",
   "name": "python3"
  },
  "language_info": {
   "codemirror_mode": {
    "name": "ipython",
    "version": 3
   },
   "file_extension": ".py",
   "mimetype": "text/x-python",
   "name": "python",
   "nbconvert_exporter": "python",
   "pygments_lexer": "ipython3",
   "version": "3.7.6"
  }
 },
 "nbformat": 4,
 "nbformat_minor": 4
}